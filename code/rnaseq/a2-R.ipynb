{
 "cells": [
  {
   "cell_type": "code",
   "execution_count": 1,
   "metadata": {},
   "outputs": [
    {
     "name": "stderr",
     "output_type": "stream",
     "text": [
      "Loading required package: limma\n",
      "\n"
     ]
    }
   ],
   "source": [
    "library(edgeR)"
   ]
  },
  {
   "cell_type": "code",
   "execution_count": 55,
   "metadata": {},
   "outputs": [],
   "source": [
    "x <- read.delim(\"/home/xugang/data/yangyiyi/b1-data/b4-gfold/merge.tsv\",sep=\"\\t\",row.names=c(1),header=T) \n",
    "#x <- read.delim(\"/home/xugang/data/yangyiyi/b1-data/b4-gfold/merge.gene.tsv\",sep=\"\\t\",row.names=c(1),header=T) \n",
    "x=x[,c(5,6,7,8,9,10,11,12,14,15,16,17,18,19,20,21,22,23,24)]\n",
    "x_cpm=cpm(x)\n"
   ]
  },
  {
   "cell_type": "code",
   "execution_count": 31,
   "metadata": {},
   "outputs": [],
   "source": [
    "group <- factor(c(2,2,2,2,2,2,2,2,2,2,2,1,1,1,1,1,1,1,1))\n"
   ]
  },
  {
   "cell_type": "code",
   "execution_count": 32,
   "metadata": {},
   "outputs": [],
   "source": [
    "y <- DGEList(counts=x,group=group)\n"
   ]
  },
  {
   "cell_type": "code",
   "execution_count": 33,
   "metadata": {},
   "outputs": [],
   "source": [
    "keep <- filterByExpr(y)\n"
   ]
  },
  {
   "cell_type": "code",
   "execution_count": 34,
   "metadata": {},
   "outputs": [],
   "source": [
    "y <- y[keep,,keep.lib.sizes=FALSE]\n"
   ]
  },
  {
   "cell_type": "code",
   "execution_count": 35,
   "metadata": {},
   "outputs": [],
   "source": [
    "y <- calcNormFactors(y)\n"
   ]
  },
  {
   "cell_type": "code",
   "execution_count": 36,
   "metadata": {},
   "outputs": [],
   "source": [
    "design <- model.matrix(~group)\n"
   ]
  },
  {
   "cell_type": "code",
   "execution_count": 37,
   "metadata": {},
   "outputs": [],
   "source": [
    "y <- estimateDisp(y,design)"
   ]
  },
  {
   "cell_type": "code",
   "execution_count": 38,
   "metadata": {},
   "outputs": [
    {
     "data": {
      "text/html": [
       "<dl>\n",
       "\t<dt>$table</dt>\n",
       "\t\t<dd><table>\n",
       "<caption>A data.frame: 10 × 5</caption>\n",
       "<thead>\n",
       "\t<tr><th></th><th scope=col>logFC</th><th scope=col>logCPM</th><th scope=col>F</th><th scope=col>PValue</th><th scope=col>FDR</th></tr>\n",
       "\t<tr><th></th><th scope=col>&lt;dbl&gt;</th><th scope=col>&lt;dbl&gt;</th><th scope=col>&lt;dbl&gt;</th><th scope=col>&lt;dbl&gt;</th><th scope=col>&lt;dbl&gt;</th></tr>\n",
       "</thead>\n",
       "<tbody>\n",
       "\t<tr><th scope=row>ENSMUSG00000026478.14</th><td>-6.6546190</td><td> 2.454787</td><td>25.62331</td><td>5.431804e-05</td><td>0.4394769</td></tr>\n",
       "\t<tr><th scope=row>ENSMUSG00000015217.11</th><td> 1.1935202</td><td> 6.991389</td><td>24.29846</td><td>7.408142e-05</td><td>0.4394769</td></tr>\n",
       "\t<tr><th scope=row>ENSMUSG00000054720.12</th><td> 8.1443515</td><td> 3.812793</td><td>22.88697</td><td>1.042320e-04</td><td>0.4394769</td></tr>\n",
       "\t<tr><th scope=row>ENSMUSG00000026580.16</th><td> 7.1881954</td><td> 4.504131</td><td>21.26591</td><td>1.565893e-04</td><td>0.4951745</td></tr>\n",
       "\t<tr><th scope=row>ENSMUSG00000039096.10</th><td> 7.2595080</td><td> 2.599101</td><td>19.50185</td><td>2.486789e-04</td><td>0.4966215</td></tr>\n",
       "\t<tr><th scope=row>ENSMUSG00000032484.8</th><td>-7.8962344</td><td> 7.691202</td><td>19.29757</td><td>2.627320e-04</td><td>0.4966215</td></tr>\n",
       "\t<tr><th scope=row>ENSMUSG00000058603.10</th><td>-0.5924196</td><td> 8.471201</td><td>18.35748</td><td>3.397126e-04</td><td>0.4966215</td></tr>\n",
       "\t<tr><th scope=row>ENSMUSG00000073940.3</th><td>-3.9664982</td><td>10.097110</td><td>17.37455</td><td>4.476808e-04</td><td>0.4966215</td></tr>\n",
       "\t<tr><th scope=row>ENSMUSG00000056054.9</th><td>-5.9164158</td><td> 8.184200</td><td>17.32164</td><td>4.544816e-04</td><td>0.4966215</td></tr>\n",
       "\t<tr><th scope=row>ENSMUSG00000038357.10</th><td>-7.3751971</td><td> 7.697139</td><td>17.25083</td><td>4.637608e-04</td><td>0.4966215</td></tr>\n",
       "</tbody>\n",
       "</table>\n",
       "</dd>\n",
       "\t<dt>$adjust.method</dt>\n",
       "\t\t<dd>'BH'</dd>\n",
       "\t<dt>$comparison</dt>\n",
       "\t\t<dd>'group2'</dd>\n",
       "\t<dt>$test</dt>\n",
       "\t\t<dd>'glm'</dd>\n",
       "</dl>\n"
      ],
      "text/latex": [
       "\\begin{description}\n",
       "\\item[\\$table] A data.frame: 10 × 5\n",
       "\\begin{tabular}{r|lllll}\n",
       "  & logFC & logCPM & F & PValue & FDR\\\\\n",
       "  & <dbl> & <dbl> & <dbl> & <dbl> & <dbl>\\\\\n",
       "\\hline\n",
       "\tENSMUSG00000026478.14 & -6.6546190 &  2.454787 & 25.62331 & 5.431804e-05 & 0.4394769\\\\\n",
       "\tENSMUSG00000015217.11 &  1.1935202 &  6.991389 & 24.29846 & 7.408142e-05 & 0.4394769\\\\\n",
       "\tENSMUSG00000054720.12 &  8.1443515 &  3.812793 & 22.88697 & 1.042320e-04 & 0.4394769\\\\\n",
       "\tENSMUSG00000026580.16 &  7.1881954 &  4.504131 & 21.26591 & 1.565893e-04 & 0.4951745\\\\\n",
       "\tENSMUSG00000039096.10 &  7.2595080 &  2.599101 & 19.50185 & 2.486789e-04 & 0.4966215\\\\\n",
       "\tENSMUSG00000032484.8 & -7.8962344 &  7.691202 & 19.29757 & 2.627320e-04 & 0.4966215\\\\\n",
       "\tENSMUSG00000058603.10 & -0.5924196 &  8.471201 & 18.35748 & 3.397126e-04 & 0.4966215\\\\\n",
       "\tENSMUSG00000073940.3 & -3.9664982 & 10.097110 & 17.37455 & 4.476808e-04 & 0.4966215\\\\\n",
       "\tENSMUSG00000056054.9 & -5.9164158 &  8.184200 & 17.32164 & 4.544816e-04 & 0.4966215\\\\\n",
       "\tENSMUSG00000038357.10 & -7.3751971 &  7.697139 & 17.25083 & 4.637608e-04 & 0.4966215\\\\\n",
       "\\end{tabular}\n",
       "\n",
       "\\item[\\$adjust.method] 'BH'\n",
       "\\item[\\$comparison] 'group2'\n",
       "\\item[\\$test] 'glm'\n",
       "\\end{description}\n"
      ],
      "text/markdown": [
       "$table\n",
       ":   \n",
       "A data.frame: 10 × 5\n",
       "\n",
       "| <!--/--> | logFC &lt;dbl&gt; | logCPM &lt;dbl&gt; | F &lt;dbl&gt; | PValue &lt;dbl&gt; | FDR &lt;dbl&gt; |\n",
       "|---|---|---|---|---|---|\n",
       "| ENSMUSG00000026478.14 | -6.6546190 |  2.454787 | 25.62331 | 5.431804e-05 | 0.4394769 |\n",
       "| ENSMUSG00000015217.11 |  1.1935202 |  6.991389 | 24.29846 | 7.408142e-05 | 0.4394769 |\n",
       "| ENSMUSG00000054720.12 |  8.1443515 |  3.812793 | 22.88697 | 1.042320e-04 | 0.4394769 |\n",
       "| ENSMUSG00000026580.16 |  7.1881954 |  4.504131 | 21.26591 | 1.565893e-04 | 0.4951745 |\n",
       "| ENSMUSG00000039096.10 |  7.2595080 |  2.599101 | 19.50185 | 2.486789e-04 | 0.4966215 |\n",
       "| ENSMUSG00000032484.8 | -7.8962344 |  7.691202 | 19.29757 | 2.627320e-04 | 0.4966215 |\n",
       "| ENSMUSG00000058603.10 | -0.5924196 |  8.471201 | 18.35748 | 3.397126e-04 | 0.4966215 |\n",
       "| ENSMUSG00000073940.3 | -3.9664982 | 10.097110 | 17.37455 | 4.476808e-04 | 0.4966215 |\n",
       "| ENSMUSG00000056054.9 | -5.9164158 |  8.184200 | 17.32164 | 4.544816e-04 | 0.4966215 |\n",
       "| ENSMUSG00000038357.10 | -7.3751971 |  7.697139 | 17.25083 | 4.637608e-04 | 0.4966215 |\n",
       "\n",
       "\n",
       "$adjust.method\n",
       ":   'BH'\n",
       "$comparison\n",
       ":   'group2'\n",
       "$test\n",
       ":   'glm'\n",
       "\n",
       "\n"
      ],
      "text/plain": [
       "Coefficient:  group2 \n",
       "                           logFC    logCPM        F       PValue       FDR\n",
       "ENSMUSG00000026478.14 -6.6546190  2.454787 25.62331 5.431804e-05 0.4394769\n",
       "ENSMUSG00000015217.11  1.1935202  6.991389 24.29846 7.408142e-05 0.4394769\n",
       "ENSMUSG00000054720.12  8.1443515  3.812793 22.88697 1.042320e-04 0.4394769\n",
       "ENSMUSG00000026580.16  7.1881954  4.504131 21.26591 1.565893e-04 0.4951745\n",
       "ENSMUSG00000039096.10  7.2595080  2.599101 19.50185 2.486789e-04 0.4966215\n",
       "ENSMUSG00000032484.8  -7.8962344  7.691202 19.29757 2.627320e-04 0.4966215\n",
       "ENSMUSG00000058603.10 -0.5924196  8.471201 18.35748 3.397126e-04 0.4966215\n",
       "ENSMUSG00000073940.3  -3.9664982 10.097110 17.37455 4.476808e-04 0.4966215\n",
       "ENSMUSG00000056054.9  -5.9164158  8.184200 17.32164 4.544816e-04 0.4966215\n",
       "ENSMUSG00000038357.10 -7.3751971  7.697139 17.25083 4.637608e-04 0.4966215"
      ]
     },
     "metadata": {},
     "output_type": "display_data"
    }
   ],
   "source": [
    "fit <- glmQLFit(y,design)\n",
    "qlf <- glmQLFTest(fit,coef=2)\n",
    "topTags(qlf)"
   ]
  },
  {
   "cell_type": "code",
   "execution_count": 39,
   "metadata": {},
   "outputs": [],
   "source": [
    " fit <- glmFit(y,design)\n",
    "lrt <- glmLRT(fit,coef=2)\n",
    "result=topTags(lrt,n=1000000)\n",
    "\n",
    "\n",
    "#lrt$table\n",
    "#?topTags"
   ]
  },
  {
   "cell_type": "code",
   "execution_count": 48,
   "metadata": {},
   "outputs": [],
   "source": [
    "resultt=result$table\n",
    "#head(resultt)\n",
    "up=resultt[resultt$logFC>1 & resultt$PValue<0.05,]\n",
    "do=resultt[resultt$logFC<-1 & resultt$PValue<0.05,]"
   ]
  },
  {
   "cell_type": "code",
   "execution_count": 49,
   "metadata": {},
   "outputs": [],
   "source": [
    "write.table(up,\"/home/xugang/data/yangyiyi/b1-data/b4-gfold/df.up.tsv\",quote=F,sep=\"\\t\");\n",
    "write.table(do,\"/home/xugang/data/yangyiyi/b1-data/b4-gfold/df.down.tsv\",quote=F,sep=\"\\t\");\n",
    "write.table(x_cpm,\"/home/xugang/data/yangyiyi/b1-data/b4-gfold/cpm.tsv\",quote=F,sep=\"\\t\");"
   ]
  },
  {
   "cell_type": "code",
   "execution_count": null,
   "metadata": {},
   "outputs": [],
   "source": [
    "#write.table(up,\"/home/xugang/data/yangyiyi/b1-data/b4-gfold/df.g.up.tsv\",quote=F,sep=\"\\t\");\n",
    "#write.table(do,\"/home/xugang/data/yangyiyi/b1-data/b4-gfold/df.g.down.tsv\",quote=F,sep=\"\\t\");\n",
    "#write.table(x_cpm,\"/home/xugang/data/yangyiyi/b1-data/b4-gfold/cpm.g.tsv\",quote=F,sep=\"\\t\");"
   ]
  }
 ],
 "metadata": {
  "kernelspec": {
   "display_name": "R",
   "language": "R",
   "name": "ir"
  },
  "language_info": {
   "codemirror_mode": "r",
   "file_extension": ".r",
   "mimetype": "text/x-r-source",
   "name": "R",
   "pygments_lexer": "r",
   "version": "4.0.2"
  }
 },
 "nbformat": 4,
 "nbformat_minor": 4
}
